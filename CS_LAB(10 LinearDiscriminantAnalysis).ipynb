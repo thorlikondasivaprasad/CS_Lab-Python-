{
 "cells": [
  {
   "cell_type": "code",
   "execution_count": 6,
   "metadata": {},
   "outputs": [
    {
     "name": "stdout",
     "output_type": "stream",
     "text": [
      "The given data [5 6] belongs to First group\n"
     ]
    }
   ],
   "source": [
    "import numpy as np\n",
    "from math import log as ln \n",
    "\n",
    "def mymean(data):\n",
    "    Sum = 0\n",
    "    for i in data:\n",
    "        Sum += i\n",
    "    return Sum/len(data)\n",
    "\n",
    "# a=np.array([2.95,2.53,3.57,3.16,2.58,2.16,3.27])\n",
    "# b=np.array([6.63,7.79,5.65,5.47,4.46,6.22,3.52])\n",
    "# c=np.array([1,1,1,1,0,0,0])\n",
    "\n",
    "a = np.array([4,2,2,3,4,9,6,9,8,10])\n",
    "b = np.array([2,4,3,6,4,10,8,5,7,8])\n",
    "c = np.array([1,1,1,1,1,0,0,0,0,0])\n",
    "\n",
    "X=np.array([a,b])\n",
    "\n",
    "given=np.array([5,6])   #testing value\n",
    "\n",
    "m,n,p,q=[],[],[],[]      #m,n belongs to a,b column=1  p,q belongs to a,b column=0 \n",
    "\n",
    "count_1,count_0=0,0\n",
    "\n",
    "for i in range(len(c)):\n",
    "    if c[i]==0:            #p,q belongs to a,b column=0\n",
    "        p.append(a[i])\n",
    "        q.append(b[i])\n",
    "        count_0+=1\n",
    "    elif c[i]==1:          #m,n belongs to a,b column=1\n",
    "        m.append(a[i])\n",
    "        n.append(b[i])\n",
    "        count_1+=1\n",
    "        \n",
    "x1=[m,n]\n",
    "x2=[p,q]\n",
    "\n",
    "mu=[mymean(a),mymean(b)]\n",
    "mu1=[mymean(m),mymean(n)]\n",
    "mu2=[mymean(p),mymean(q)]\n",
    "\n",
    "x_mu=[a-mu[0],b-mu[1]]     #x minus mu\n",
    "\n",
    "#pooled covarience matrix\n",
    "\n",
    "pcm=[[sum(x_mu[0]**2)/len(c),sum(x_mu[0]*x_mu[1])/len(c)],\n",
    "     [sum(x_mu[0]*x_mu[1])/len(c),sum(x_mu[1]**2)/len(c)]]\n",
    "\n",
    "pcm_inv=np.linalg.inv(pcm)  #inverse of pooled covarience matrix\n",
    "\n",
    "f1_term1=sum(np.array([sum(mu1*pcm_inv[0]),sum(mu1*pcm_inv[1])])*given)\n",
    "f1_term2=sum(np.array([sum(mu1*pcm_inv[0]),sum(mu1*pcm_inv[1])])*mu1)\n",
    "f1_term3=ln(count_1/len(c))\n",
    "\n",
    "f1_term=f1_term1- 0.5*f1_term2+ f1_term3  \n",
    "\n",
    "f2_term1=sum(np.array([sum(mu2*pcm_inv[0]),sum(mu2*pcm_inv[1])])*given)\n",
    "f2_term2=sum(np.array([sum(mu2*pcm_inv[0]),sum(mu2*pcm_inv[1])])*mu2)\n",
    "f2_term3=ln(count_0/len(c))\n",
    "\n",
    "f2_term=f2_term1- 0.5*f2_term2+ f2_term3\n",
    "\n",
    "max_val= f1_term if f1_term > f2_term else f2_term  #checking of f1,f2\n",
    "\n",
    "if max_val==f1_term:\n",
    "    print(f'The given data {given} belongs to First group')\n",
    "\n",
    "else:\n",
    "    print(f'The given data {given} belongs to Second group')\n"
   ]
  },
  {
   "cell_type": "code",
   "execution_count": null,
   "metadata": {},
   "outputs": [],
   "source": []
  },
  {
   "cell_type": "code",
   "execution_count": null,
   "metadata": {},
   "outputs": [],
   "source": []
  }
 ],
 "metadata": {
  "kernelspec": {
   "display_name": "Python 3",
   "language": "python",
   "name": "python3"
  },
  "language_info": {
   "codemirror_mode": {
    "name": "ipython",
    "version": 3
   },
   "file_extension": ".py",
   "mimetype": "text/x-python",
   "name": "python",
   "nbconvert_exporter": "python",
   "pygments_lexer": "ipython3",
   "version": "3.7.0"
  }
 },
 "nbformat": 4,
 "nbformat_minor": 2
}
